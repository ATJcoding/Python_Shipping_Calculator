{
 "cells": [
  {
   "cell_type": "code",
   "execution_count": 5,
   "metadata": {},
   "outputs": [
    {
     "name": "stdout",
     "output_type": "stream",
     "text": [
      "Your cost to ship this package by drone would be:$1111.5\n",
      "Your cost to ship this package by ground would be:$390.5\n",
      "Your cost to ship this package by premium ground would be:$125.0\n"
     ]
    }
   ],
   "source": [
    "weight = int(input(\"How much does your package weight?\"))\n",
    "#ground shipping if/elif/else\n",
    "ground_flat = 20\n",
    "cost_ground = ()\n",
    "if weight <= 2:\n",
    "    cost_ground = weight * 1.5 + ground_flat\n",
    "elif weight <= 6:\n",
    "    cost_ground = weight * 3.00 + ground_flat\n",
    "elif weight <= 10:\n",
    "    cost_ground = weight * 4.00 + ground_flat\n",
    "else:\n",
    "    cost_ground = weight * 4.75 + ground_flat\n",
    "#premium ground shipping calculator\n",
    "cost_premium_ground = 125.00\n",
    "#Drone Shipping\n",
    "cost_drone = ()\n",
    "if weight <= 2:\n",
    "    cost_drone = weight * 4.50\n",
    "elif weight <= 6:    \n",
    "    cost_drone = weight * 9.00\n",
    "elif weight <= 10:\n",
    "    cost_drone = weight * 12.00\n",
    "else:\n",
    "    cost_drone = weight * 14.25\n",
    "print('Your cost to ship this package by drone would be:$' + str(cost_drone))\n",
    "print('Your cost to ship this package by ground would be:$' + str(cost_ground))\n",
    "print('Your cost to ship this package by premium ground would be:$' + str(cost_premium_ground))"
   ]
  }
 ],
 "metadata": {
  "kernelspec": {
   "display_name": "Python 3.8.7 64-bit",
   "language": "python",
   "name": "python3"
  },
  "language_info": {
   "codemirror_mode": {
    "name": "ipython",
    "version": 3
   },
   "file_extension": ".py",
   "mimetype": "text/x-python",
   "name": "python",
   "nbconvert_exporter": "python",
   "pygments_lexer": "ipython3",
   "version": "3.8.7"
  },
  "orig_nbformat": 4,
  "vscode": {
   "interpreter": {
    "hash": "fd387f4c6bfead775c49f806c424fbbf141bcfb4f89cf82cdfedcbad543523b1"
   }
  }
 },
 "nbformat": 4,
 "nbformat_minor": 2
}
